{
 "cells": [
  {
   "cell_type": "code",
   "execution_count": 16,
   "metadata": {},
   "outputs": [],
   "source": [
    "import matplotlib.pyplot as plt"
   ]
  },
  {
   "cell_type": "code",
   "execution_count": 17,
   "metadata": {},
   "outputs": [],
   "source": [
    "import pickle as pkl\n",
    "model = pkl.load(open('student-final grade-predictor.pkl', 'rb'))"
   ]
  },
  {
   "cell_type": "code",
   "execution_count": 18,
   "metadata": {},
   "outputs": [],
   "source": [
    "def display():\n",
    "    plt.plot([\"G1\", \"G2\", \"G3\"], [g1_int, g2_int, y_pred])\n",
    "    plt.show()\n",
    "    if g1_int>g2_int and g1_int>y_pred and g2_int>y_pred:\n",
    "        print(\"As observed, the student's performance has decreased from {} to {}. With respect to my prediction, the performance will again decline.\".format(g1_int, g2_int))\n",
    "    elif g1_int>y_pred and g1_int>g2_int and y_pred>g2_int:\n",
    "        print(\"As observed, the student's performance has decreased drastically, from {} to {}. However, with regards to my prediction, the performance will rise(It won't go above the G1 marks, though).\".format(g1_int, g2_int))        \n",
    "    elif g2_int>g1_int and g2_int>y_pred and g1_int>y_pred:\n",
    "        print(\"As observed, the student's performance has increased from {} to {}. However, with respect to my prediction, the performance will decline.\".format(g1_int, g2_int))\n",
    "    elif g2_int>y_pred and g2_int>g1_int and y_pred>g1_int:\n",
    "        print(\"As observed, the student's performance has increased from {} to {}. However, with respect to my prediction, the performance will decline(It won't go below the G1 marks, though).\".format(g1_int, g2_int))\n",
    "    elif y_pred>g2_int and y_pred>g1_int and g2_int>g1_int:\n",
    "        print(\"As observed, the student's performance has increased from {} to {}. Fortunately, with respect to my prediction, the performance will again rise.\".format(g1_int, g2_int))\n",
    "    elif y_pred>g1_int and y_pred>g2_int and g1_int>g2_int:\n",
    "        print(\"As observed, the student's performance has decreased from {} to {}. Luckily, the performance is predicted to rise again(It will go above the G1 marks).\".format(g1_int, g2_int))\n",
    "    elif g1_int>g2_int and g2_int==y_pred:\n",
    "        print(\"As observed, the student's performance has decreased from {} to {}. The performance is predicted to stay at the same level.\".format(g1_int, g2_int))\n",
    "    elif g2_int>g1_int and g1_int==y_pred:\n",
    "        print(\"As observed, the student's performance has increased from {} to {}. The performance is predicted to stay stable.\".format(g1_int, g2_int))"
   ]
  },
  {
   "cell_type": "code",
   "execution_count": 20,
   "metadata": {},
   "outputs": [
    {
     "name": "stdout",
     "output_type": "stream",
     "text": [
      "Enter G1 marks: 18.5\n",
      "Enter G2 marks: 13.75\n",
      "[15.32031612]\n"
     ]
    },
    {
     "data": {
      "image/png": "[encoded data removed]",
      "text/plain": [
       "<Figure size 432x288 with 1 Axes>"
      ]
     },
     "metadata": {
      "needs_background": "light"
     },
     "output_type": "display_data"
    },
    {
     "name": "stdout",
     "output_type": "stream",
     "text": [
      "As observed, the student's performance has decreased drastically, from 18.5 to 13.75. However, with regards to my prediction, the performance will rise(It won't go above the G1 marks, though).\n"
     ]
    }
   ],
   "source": [
    "g1 = input(\"Enter G1 marks: \")\n",
    "g2 = input(\"Enter G2 marks: \")\n",
    "g1_int = float(g1)\n",
    "g2_int = float(g2)\n",
    "#  gender', 'age', 'address', 'famsize', 'Pstatus', 'Medu', 'Fedu','Mjob', 'Fjob', 'reason', 'guardian', 'traveltime'\n",
    "# 'studytime','failures', 'schoolsup', 'famsup', 'paid', 'activities', 'nursery','higher', 'internet', 'romantic', 'famrel'\n",
    "# 'freetime', 'goout', 'Dalc','Walc', 'health', 'absences', 'G1', 'G2', 'G3'\n",
    "y_pred = model.predict([[2, 21, 1, 1, 1, 4, 4, 1, 4, 3, 1, 1, 4, 0, 1, 2, 1, 2, 2, 2, 2, 2, 4, 2, 2, 1, 2, 3, 1, g1_int, g2_int]])\n",
    "print(y_pred)\n",
    "display()\n",
    "    "
   ]
  },
  {
   "cell_type": "code",
   "execution_count": null,
   "metadata": {},
   "outputs": [],
   "source": []
  }
 ],
 "metadata": {
  "kernelspec": {
   "display_name": "Python 3",
   "language": "python",
   "name": "python3"
  },
  "language_info": {
   "codemirror_mode": {
    "name": "ipython",
    "version": 3
   },
   "file_extension": ".py",
   "mimetype": "text/x-python",
   "name": "python",
   "nbconvert_exporter": "python",
   "pygments_lexer": "ipython3",
   "version": "3.8.3"
  }
 },
 "nbformat": 4,
 "nbformat_minor": 4
}
